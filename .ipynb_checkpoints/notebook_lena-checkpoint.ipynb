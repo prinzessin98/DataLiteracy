{
 "cells": [
  {
   "cell_type": "code",
   "execution_count": 65,
   "id": "d21ec3ac",
   "metadata": {},
   "outputs": [],
   "source": [
    "import numpy as np\n",
    "import matplotlib.pyplot as plt\n",
    "import pandas as pd \n",
    "from pathlib import Path\n",
    "from pandas.plotting import register_matplotlib_converters\n",
    "register_matplotlib_converters()\n",
    "from sklearn.linear_model import LinearRegression\n",
    "import seaborn as sns\n",
    "from statsmodels.tsa.deterministic import CalendarFourier, DeterministicProcess\n",
    "from scipy.signal import periodogram\n",
    "import datetime as dt\n"
   ]
  },
  {
   "cell_type": "code",
   "execution_count": 55,
   "id": "a6b15f9b",
   "metadata": {},
   "outputs": [
    {
     "name": "stdout",
     "output_type": "stream",
     "text": [
      "C:\\Users\\Lena\\Dokumente\\GitHub\\DataLiteracy\n"
     ]
    }
   ],
   "source": [
    "import os\n",
    "print(os.getcwd())\n",
    "pd.set_option('mode.chained_assignment', None)\n"
   ]
  },
  {
   "cell_type": "code",
   "execution_count": 66,
   "id": "57fb6533",
   "metadata": {
    "scrolled": true
   },
   "outputs": [
    {
     "data": {
      "text/html": [
       "<div>\n",
       "<style scoped>\n",
       "    .dataframe tbody tr th:only-of-type {\n",
       "        vertical-align: middle;\n",
       "    }\n",
       "\n",
       "    .dataframe tbody tr th {\n",
       "        vertical-align: top;\n",
       "    }\n",
       "\n",
       "    .dataframe thead th {\n",
       "        text-align: right;\n",
       "    }\n",
       "</style>\n",
       "<table border=\"1\" class=\"dataframe\">\n",
       "  <thead>\n",
       "    <tr style=\"text-align: right;\">\n",
       "      <th></th>\n",
       "      <th>Tunnel</th>\n",
       "      <th>Steinlach</th>\n",
       "      <th>Hirschau</th>\n",
       "    </tr>\n",
       "    <tr>\n",
       "      <th>date</th>\n",
       "      <th></th>\n",
       "      <th></th>\n",
       "      <th></th>\n",
       "    </tr>\n",
       "  </thead>\n",
       "  <tbody>\n",
       "    <tr>\n",
       "      <th>2018-01-01</th>\n",
       "      <td>721.0</td>\n",
       "      <td>0.0</td>\n",
       "      <td>184.0</td>\n",
       "    </tr>\n",
       "    <tr>\n",
       "      <th>2018-01-02</th>\n",
       "      <td>1593.0</td>\n",
       "      <td>0.0</td>\n",
       "      <td>246.0</td>\n",
       "    </tr>\n",
       "    <tr>\n",
       "      <th>2018-01-03</th>\n",
       "      <td>1116.0</td>\n",
       "      <td>0.0</td>\n",
       "      <td>98.0</td>\n",
       "    </tr>\n",
       "    <tr>\n",
       "      <th>2018-01-04</th>\n",
       "      <td>1278.0</td>\n",
       "      <td>0.0</td>\n",
       "      <td>120.0</td>\n",
       "    </tr>\n",
       "    <tr>\n",
       "      <th>2018-01-05</th>\n",
       "      <td>1703.0</td>\n",
       "      <td>0.0</td>\n",
       "      <td>221.0</td>\n",
       "    </tr>\n",
       "    <tr>\n",
       "      <th>...</th>\n",
       "      <td>...</td>\n",
       "      <td>...</td>\n",
       "      <td>...</td>\n",
       "    </tr>\n",
       "    <tr>\n",
       "      <th>2022-11-23</th>\n",
       "      <td>4758.0</td>\n",
       "      <td>9211.0</td>\n",
       "      <td>779.0</td>\n",
       "    </tr>\n",
       "    <tr>\n",
       "      <th>2022-11-24</th>\n",
       "      <td>4336.0</td>\n",
       "      <td>8844.0</td>\n",
       "      <td>701.0</td>\n",
       "    </tr>\n",
       "    <tr>\n",
       "      <th>2022-11-25</th>\n",
       "      <td>4190.0</td>\n",
       "      <td>8394.0</td>\n",
       "      <td>592.0</td>\n",
       "    </tr>\n",
       "    <tr>\n",
       "      <th>2022-11-26</th>\n",
       "      <td>2681.0</td>\n",
       "      <td>4939.0</td>\n",
       "      <td>458.0</td>\n",
       "    </tr>\n",
       "    <tr>\n",
       "      <th>2022-11-27</th>\n",
       "      <td>1882.0</td>\n",
       "      <td>3131.0</td>\n",
       "      <td>320.0</td>\n",
       "    </tr>\n",
       "  </tbody>\n",
       "</table>\n",
       "<p>1792 rows × 3 columns</p>\n",
       "</div>"
      ],
      "text/plain": [
       "            Tunnel  Steinlach  Hirschau\n",
       "date                                   \n",
       "2018-01-01   721.0        0.0     184.0\n",
       "2018-01-02  1593.0        0.0     246.0\n",
       "2018-01-03  1116.0        0.0      98.0\n",
       "2018-01-04  1278.0        0.0     120.0\n",
       "2018-01-05  1703.0        0.0     221.0\n",
       "...            ...        ...       ...\n",
       "2022-11-23  4758.0     9211.0     779.0\n",
       "2022-11-24  4336.0     8844.0     701.0\n",
       "2022-11-25  4190.0     8394.0     592.0\n",
       "2022-11-26  2681.0     4939.0     458.0\n",
       "2022-11-27  1882.0     3131.0     320.0\n",
       "\n",
       "[1792 rows x 3 columns]"
      ]
     },
     "metadata": {},
     "output_type": "display_data"
    }
   ],
   "source": [
    "path = \"Daten/data.csv\"\n",
    "df =  pd.read_csv(path,header=1, sep=\";\", names=['date','Tunnel','Steinlach','Hirschau'], parse_dates=['date']).dropna()\n",
    "df['date']=pd.to_datetime(df['date']).dt.date\n",
    "df=df.groupby(['date']).sum()\n",
    "\n",
    "display(df)\n"
   ]
  },
  {
   "cell_type": "code",
   "execution_count": 75,
   "id": "9078fb9e",
   "metadata": {},
   "outputs": [
    {
     "data": {
      "text/plain": [
       "DatetimeIndex(['2018-01-01', '2018-01-02', '2018-01-03', '2018-01-04',\n",
       "               '2018-01-05', '2018-01-06', '2018-01-07', '2018-01-08',\n",
       "               '2018-01-09', '2018-01-10',\n",
       "               ...\n",
       "               '2022-11-18', '2022-11-19', '2022-11-20', '2022-11-21',\n",
       "               '2022-11-22', '2022-11-23', '2022-11-24', '2022-11-25',\n",
       "               '2022-11-26', '2022-11-27'],\n",
       "              dtype='datetime64[ns]', name='date', length=1792, freq=None)"
      ]
     },
     "execution_count": 75,
     "metadata": {},
     "output_type": "execute_result"
    }
   ],
   "source": [
    "df.index = pd.to_datetime(df.index)\n"
   ]
  },
  {
   "cell_type": "code",
   "execution_count": 73,
   "id": "abab2c0d",
   "metadata": {
    "scrolled": true
   },
   "outputs": [
    {
     "data": {
      "text/plain": [
       "2016-12-31   2016-12-31\n",
       "2017-01-01   2017-01-01\n",
       "2017-01-02   2017-01-02\n",
       "2017-01-03   2017-01-03\n",
       "2017-01-04   2017-01-04\n",
       "2017-01-05   2017-01-05\n",
       "2017-01-06   2017-01-06\n",
       "2017-01-07   2017-01-07\n",
       "2017-01-08   2017-01-08\n",
       "Freq: D, dtype: datetime64[ns]"
      ]
     },
     "execution_count": 73,
     "metadata": {},
     "output_type": "execute_result"
    }
   ],
   "source": [
    "s = pd.date_range('2016-12-31', '2017-01-08', freq='D').to_series()\n",
    "s"
   ]
  },
  {
   "cell_type": "code",
   "execution_count": 31,
   "id": "b18a85f0",
   "metadata": {},
   "outputs": [
    {
     "ename": "AttributeError",
     "evalue": "'Index' object has no attribute 'dayofweek'",
     "output_type": "error",
     "traceback": [
      "\u001b[1;31m---------------------------------------------------------------------------\u001b[0m",
      "\u001b[1;31mAttributeError\u001b[0m                            Traceback (most recent call last)",
      "\u001b[1;32m~\\AppData\\Local\\Temp\\ipykernel_10580\\3664301217.py\u001b[0m in \u001b[0;36m<module>\u001b[1;34m\u001b[0m\n\u001b[1;32m----> 1\u001b[1;33m \u001b[0mdf\u001b[0m\u001b[1;33m[\u001b[0m\u001b[1;34m'day'\u001b[0m\u001b[1;33m]\u001b[0m \u001b[1;33m=\u001b[0m \u001b[0mdf\u001b[0m\u001b[1;33m.\u001b[0m\u001b[0mindex\u001b[0m\u001b[1;33m.\u001b[0m\u001b[0mdayofweek\u001b[0m\u001b[1;33m\u001b[0m\u001b[1;33m\u001b[0m\u001b[0m\n\u001b[0m\u001b[0;32m      2\u001b[0m \u001b[0mdisplay\u001b[0m\u001b[1;33m(\u001b[0m\u001b[0mdf\u001b[0m\u001b[1;33m)\u001b[0m\u001b[1;33m\u001b[0m\u001b[1;33m\u001b[0m\u001b[0m\n",
      "\u001b[1;31mAttributeError\u001b[0m: 'Index' object has no attribute 'dayofweek'"
     ]
    }
   ],
   "source": [
    "df['day'] = df.index.dayofweek\n",
    "display(df)"
   ]
  },
  {
   "cell_type": "code",
   "execution_count": 22,
   "id": "c8f82514",
   "metadata": {
    "scrolled": true
   },
   "outputs": [
    {
     "data": {
      "text/plain": [
       "array(['2018-01-07T00:00:00.000000000', '2018-01-07T00:00:00.000000000',\n",
       "       '2018-01-07T00:00:00.000000000', ...,\n",
       "       '2022-11-27T00:00:00.000000000', '2022-11-27T00:00:00.000000000',\n",
       "       '2022-11-27T00:00:00.000000000'], dtype='datetime64[ns]')"
      ]
     },
     "execution_count": 22,
     "metadata": {},
     "output_type": "execute_result"
    }
   ],
   "source": [
    "weeks = pd.date_range('2018-01-01', '2022-11-27', freq='W').to_numpy()\n",
    "weeks= np.repeat(weeks, 7)\n"
   ]
  },
  {
   "cell_type": "code",
   "execution_count": 25,
   "id": "8d8ef714",
   "metadata": {},
   "outputs": [
    {
     "data": {
      "text/html": [
       "<div>\n",
       "<style scoped>\n",
       "    .dataframe tbody tr th:only-of-type {\n",
       "        vertical-align: middle;\n",
       "    }\n",
       "\n",
       "    .dataframe tbody tr th {\n",
       "        vertical-align: top;\n",
       "    }\n",
       "\n",
       "    .dataframe thead th {\n",
       "        text-align: right;\n",
       "    }\n",
       "</style>\n",
       "<table border=\"1\" class=\"dataframe\">\n",
       "  <thead>\n",
       "    <tr style=\"text-align: right;\">\n",
       "      <th></th>\n",
       "      <th>Tunnel</th>\n",
       "      <th>Steinlach</th>\n",
       "      <th>Hirschau</th>\n",
       "      <th>week</th>\n",
       "    </tr>\n",
       "    <tr>\n",
       "      <th>date</th>\n",
       "      <th></th>\n",
       "      <th></th>\n",
       "      <th></th>\n",
       "      <th></th>\n",
       "    </tr>\n",
       "  </thead>\n",
       "  <tbody>\n",
       "    <tr>\n",
       "      <th>2018-01-01</th>\n",
       "      <td>721.0</td>\n",
       "      <td>0.0</td>\n",
       "      <td>184.0</td>\n",
       "      <td>2018-01-07</td>\n",
       "    </tr>\n",
       "    <tr>\n",
       "      <th>2018-01-02</th>\n",
       "      <td>1593.0</td>\n",
       "      <td>0.0</td>\n",
       "      <td>246.0</td>\n",
       "      <td>2018-01-07</td>\n",
       "    </tr>\n",
       "    <tr>\n",
       "      <th>2018-01-03</th>\n",
       "      <td>1116.0</td>\n",
       "      <td>0.0</td>\n",
       "      <td>98.0</td>\n",
       "      <td>2018-01-07</td>\n",
       "    </tr>\n",
       "    <tr>\n",
       "      <th>2018-01-04</th>\n",
       "      <td>1278.0</td>\n",
       "      <td>0.0</td>\n",
       "      <td>120.0</td>\n",
       "      <td>2018-01-07</td>\n",
       "    </tr>\n",
       "    <tr>\n",
       "      <th>2018-01-05</th>\n",
       "      <td>1703.0</td>\n",
       "      <td>0.0</td>\n",
       "      <td>221.0</td>\n",
       "      <td>2018-01-07</td>\n",
       "    </tr>\n",
       "    <tr>\n",
       "      <th>...</th>\n",
       "      <td>...</td>\n",
       "      <td>...</td>\n",
       "      <td>...</td>\n",
       "      <td>...</td>\n",
       "    </tr>\n",
       "    <tr>\n",
       "      <th>2022-11-23</th>\n",
       "      <td>4758.0</td>\n",
       "      <td>9211.0</td>\n",
       "      <td>779.0</td>\n",
       "      <td>2022-11-27</td>\n",
       "    </tr>\n",
       "    <tr>\n",
       "      <th>2022-11-24</th>\n",
       "      <td>4336.0</td>\n",
       "      <td>8844.0</td>\n",
       "      <td>701.0</td>\n",
       "      <td>2022-11-27</td>\n",
       "    </tr>\n",
       "    <tr>\n",
       "      <th>2022-11-25</th>\n",
       "      <td>4190.0</td>\n",
       "      <td>8394.0</td>\n",
       "      <td>592.0</td>\n",
       "      <td>2022-11-27</td>\n",
       "    </tr>\n",
       "    <tr>\n",
       "      <th>2022-11-26</th>\n",
       "      <td>2681.0</td>\n",
       "      <td>4939.0</td>\n",
       "      <td>458.0</td>\n",
       "      <td>2022-11-27</td>\n",
       "    </tr>\n",
       "    <tr>\n",
       "      <th>2022-11-27</th>\n",
       "      <td>1882.0</td>\n",
       "      <td>3131.0</td>\n",
       "      <td>320.0</td>\n",
       "      <td>2022-11-27</td>\n",
       "    </tr>\n",
       "  </tbody>\n",
       "</table>\n",
       "<p>1792 rows × 4 columns</p>\n",
       "</div>"
      ],
      "text/plain": [
       "            Tunnel  Steinlach  Hirschau        week\n",
       "date                                               \n",
       "2018-01-01   721.0        0.0     184.0  2018-01-07\n",
       "2018-01-02  1593.0        0.0     246.0  2018-01-07\n",
       "2018-01-03  1116.0        0.0      98.0  2018-01-07\n",
       "2018-01-04  1278.0        0.0     120.0  2018-01-07\n",
       "2018-01-05  1703.0        0.0     221.0  2018-01-07\n",
       "...            ...        ...       ...         ...\n",
       "2022-11-23  4758.0     9211.0     779.0  2022-11-27\n",
       "2022-11-24  4336.0     8844.0     701.0  2022-11-27\n",
       "2022-11-25  4190.0     8394.0     592.0  2022-11-27\n",
       "2022-11-26  2681.0     4939.0     458.0  2022-11-27\n",
       "2022-11-27  1882.0     3131.0     320.0  2022-11-27\n",
       "\n",
       "[1792 rows x 4 columns]"
      ]
     },
     "metadata": {},
     "output_type": "display_data"
    }
   ],
   "source": [
    "#df['week']= weeks.tolist()\n",
    "#df['week']=pd.to_datetime(df['week']).dt.date\n",
    "display(df)"
   ]
  }
 ],
 "metadata": {
  "kernelspec": {
   "display_name": "Python 3 (ipykernel)",
   "language": "python",
   "name": "python3"
  },
  "language_info": {
   "codemirror_mode": {
    "name": "ipython",
    "version": 3
   },
   "file_extension": ".py",
   "mimetype": "text/x-python",
   "name": "python",
   "nbconvert_exporter": "python",
   "pygments_lexer": "ipython3",
   "version": "3.9.13"
  }
 },
 "nbformat": 4,
 "nbformat_minor": 5
}
